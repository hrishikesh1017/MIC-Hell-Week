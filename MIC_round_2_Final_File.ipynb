{
 "cells": [
  {
   "cell_type": "code",
   "execution_count": 1,
   "metadata": {},
   "outputs": [],
   "source": [
    "import numpy as np\n",
    "import pandas as pd\n",
    "import seaborn as sns\n"
   ]
  },
  {
   "cell_type": "code",
   "execution_count": 2,
   "metadata": {},
   "outputs": [
    {
     "name": "stdout",
     "output_type": "stream",
     "text": [
      "         UID                ph_no    cvv  credit_card_number  \\\n",
      "0  T77962103           7059868985  673.0        2.131868e+14   \n",
      "1  O92591533  +1-288-810-2425x013  983.0        4.820055e+15   \n",
      "2  O31883571    791.502.4387x7276  855.0        4.031429e+15   \n",
      "3  M18080565           2522308761  806.0        3.036423e+13   \n",
      "4  Q74073854     683-521-2001x423  424.0        4.610207e+15   \n",
      "\n",
      "                             job                      email  \\\n",
      "0                           Copy  guerrerodavid@example.org   \n",
      "1  Interior and spatial designer     michaela47@example.org   \n",
      "2       Scientist, water quality       zhoffman@example.org   \n",
      "3                   Toxicologist         hprice@example.net   \n",
      "4              Software engineer      michael61@example.net   \n",
      "\n",
      "                         url                country  emoji             name  \\\n",
      "0         http://garcia.org/                  Gabon      📑     Cathy Cherry   \n",
      "1          http://ortiz.com/                Bermuda     🥷🏿    Austin Graham   \n",
      "2          http://kelly.com/  Sao Tome and Principe    👩‍💻      Frank Smith   \n",
      "3          http://mann.info/                  Korea    NaN     Austin Young   \n",
      "4  https://www.mitchell.biz/     Russian Federation  💆🏿‍♂️  Kimberly Wilson   \n",
      "\n",
      "   ...                            qhUzJ                             FpCOT  \\\n",
      "0  ...    🍣🏿🟠U👨@9.028568970658524@️bY‍t  N6♀rs%-0.17374199145886737%g2Fu7   \n",
      "1  ...   🍣🏿🟠U👨@-40.77392373961654@️bY‍t     N6♀rs%3.836527507653148%g2Fu7   \n",
      "2  ...    🍣🏿🟠U👨@32.83118091536586@️bY‍t     N6♀rs%6.673810456792015%g2Fu7   \n",
      "3  ...  🍣🏿🟠U👨@-11.829454766573882@️bY‍t    N6♀rs%-10.87012476653127%g2Fu7   \n",
      "4  ...   🍣🏿🟠U👨@10.957430264267883@️bY‍t   N6♀rs%-1.5309050040841568%g2Fu7   \n",
      "\n",
      "                             zEnW3                            ASDn5  \\\n",
      "0  dwLNC+-16.438253859793118+D🟠Mj👩   ♀Y‍tt^-5.683708646092431^7b🎓🍣T   \n",
      "1  dwLNC+-20.503862282922828+D🟠Mj👩    ♀Y‍tt^4.345119531921794^7b🎓🍣T   \n",
      "2   dwLNC+31.545003675536307+D🟠Mj👩  ♀Y‍tt^-1.1189348865153141^7b🎓🍣T   \n",
      "3   dwLNC+26.131133464440587+D🟠Mj👩   ♀Y‍tt^2.1159115210320385^7b🎓🍣T   \n",
      "4  dwLNC+-17.670060957130605+D🟠Mj👩    ♀Y‍tt^0.132418797411758^7b🎓🍣T   \n",
      "\n",
      "                              vF2is                            pZijn  \\\n",
      "0     Q👩👨H🏾?4.495020766798911?p🎨dBV   JC🍣8Q!1.3976340938324077!Wo‍6t   \n",
      "1  Q👩👨H🏾?-0.19904265803833332?p🎨dBV    JC🍣8Q!3.414072326617339!Wo‍6t   \n",
      "2    Q👩👨H🏾?-2.109315804181183?p🎨dBV    JC🍣8Q!6.773526691273227!Wo‍6t   \n",
      "3     Q👩👨H🏾?7.373067390546165?p🎨dBV  JC🍣8Q!-0.2388097363537749!Wo‍6t   \n",
      "4    Q👩👨H🏾?3.6960467337932292?p🎨dBV    JC🍣8Q!4.588960052905303!Wo‍6t   \n",
      "\n",
      "                             WUc3c                            sCIyG  \\\n",
      "0  QtgcM|-2.1616012233562616|srwW❇    ♀👩🦐pq%7.619063527183258%👨Oet♀   \n",
      "1    QtgcM|8.673900995107994|srwW❇  ♀👩🦐pq%-0.6359934104694338%👨Oet♀   \n",
      "2   QtgcM|1.7184076239046218|srwW❇   ♀👩🦐pq%-35.95525145090523%👨Oet♀   \n",
      "3    QtgcM|-5.42787813792933|srwW❇   ♀👩🦐pq%24.501780969213996%👨Oet♀   \n",
      "4   QtgcM|-3.735829327461521|srwW❇   ♀👩🦐pq%18.194146730985878%👨Oet♀   \n",
      "\n",
      "                             qaERi          state  \n",
      "0    ‍🏿🟠👩X+-7.00274740118153+‍b🎨VK        Despair  \n",
      "1  ‍🏿🟠👩X+-11.039355040136286+‍b🎨VK  Worthlessness  \n",
      "2      ‍🏿🟠👩X+8.6752786215897+‍b🎨VK         Stress  \n",
      "3  ‍🏿🟠👩X+-0.8456272162320895+‍b🎨VK        Fatigue  \n",
      "4   ‍🏿🟠👩X+10.404818391481196+‍b🎨VK          Tears  \n",
      "\n",
      "[5 rows x 111 columns]\n"
     ]
    }
   ],
   "source": [
    "dataset = pd.read_csv(\"train.csv\")\n",
    "print(dataset.head())"
   ]
  },
  {
   "cell_type": "code",
   "execution_count": 3,
   "metadata": {},
   "outputs": [],
   "source": [
    "dataset = dataset.drop([\"UID\",\"ph_no\",\"job\",\"UZRdX\",\"Bz7Ov\",\"country\",\"cvv\",\"credit_card_number\",\"email\",\"url\",\"emoji\",\"name\"],axis =1)"
   ]
  },
  {
   "cell_type": "code",
   "execution_count": 4,
   "metadata": {},
   "outputs": [],
   "source": [
    "def clean_columns(dataset):\n",
    "    for column in dataset.columns[:-1]:\n",
    "        dataset[column] = dataset[column].str.extract(r'(\\-?\\d+\\.\\d+)').astype(float)"
   ]
  },
  {
   "cell_type": "code",
   "execution_count": 5,
   "metadata": {},
   "outputs": [],
   "source": [
    "clean_columns(dataset)"
   ]
  },
  {
   "cell_type": "code",
   "execution_count": 6,
   "metadata": {},
   "outputs": [],
   "source": [
    "def correlation(dataset, threshold):\n",
    "  col_cor = set()\n",
    "  corr_matrix = dataset.corr()\n",
    "  for i in range(len(corr_matrix.columns)):\n",
    "    for j in range(i):\n",
    "      if abs(corr_matrix.iloc[i,j]) > threshold:\n",
    "        colname = corr_matrix.columns[i]\n",
    "        col_cor.add(colname)\n",
    "  return col_cor"
   ]
  },
  {
   "cell_type": "code",
   "execution_count": 7,
   "metadata": {},
   "outputs": [],
   "source": [
    "corr_features = correlation(dataset.drop(['state'], axis = 1), 0.7)"
   ]
  },
  {
   "cell_type": "code",
   "execution_count": 8,
   "metadata": {},
   "outputs": [],
   "source": [
    "dataset = dataset.drop(corr_features,axis = 1)"
   ]
  },
  {
   "cell_type": "code",
   "execution_count": 9,
   "metadata": {},
   "outputs": [],
   "source": [
    "for column in dataset.columns[:-1]:\n",
    "    column_mean = dataset[column].mean()\n",
    "    dataset[column].fillna(column_mean, inplace=True)"
   ]
  },
  {
   "cell_type": "code",
   "execution_count": 10,
   "metadata": {},
   "outputs": [],
   "source": [
    "x = dataset.iloc[:,:-1].values\n",
    "y = dataset.iloc[:,-1].values"
   ]
  },
  {
   "cell_type": "code",
   "execution_count": 11,
   "metadata": {},
   "outputs": [],
   "source": [
    "from sklearn.preprocessing import LabelEncoder\n",
    "le = LabelEncoder()\n",
    "y = le.fit_transform(y)"
   ]
  },
  {
   "cell_type": "code",
   "execution_count": 30,
   "metadata": {},
   "outputs": [
    {
     "name": "stdout",
     "output_type": "stream",
     "text": [
      "[2 9 7 ... 7 4 9]\n"
     ]
    }
   ],
   "source": [
    "print(y)"
   ]
  },
  {
   "cell_type": "code",
   "execution_count": 12,
   "metadata": {},
   "outputs": [],
   "source": [
    "from sklearn.model_selection import train_test_split\n",
    "\n",
    "x_train,x_test,y_train,y_test = train_test_split(x,y,test_size=0.1,random_state=42)"
   ]
  },
  {
   "cell_type": "code",
   "execution_count": 13,
   "metadata": {},
   "outputs": [],
   "source": [
    "from sklearn.preprocessing import StandardScaler\n",
    "sc = StandardScaler()\n",
    "x_train[:,0:] = sc.fit_transform(x_train[:,0:])\n",
    "x_test[:,0:] = sc.transform(x_test[:,0:])"
   ]
  },
  {
   "cell_type": "code",
   "execution_count": 14,
   "metadata": {},
   "outputs": [],
   "source": [
    "from sklearn.neighbors import KNeighborsClassifier\n",
    "import matplotlib.pyplot as plt\n",
    "error_rate = []\n",
    "for i in range(1,40):\n",
    " knn = KNeighborsClassifier(n_neighbors=i)\n",
    " knn.fit(x_train,y_train)\n",
    " pred_i = knn.predict(x_test)\n",
    " error_rate.append(np.mean(pred_i != y_test))"
   ]
  },
  {
   "cell_type": "code",
   "execution_count": 15,
   "metadata": {},
   "outputs": [
    {
     "name": "stdout",
     "output_type": "stream",
     "text": [
      "Minimum error:- 0.05992857142857143 at K = 32\n"
     ]
    },
    {
     "data": {
      "image/png": "[encoded data removed]",
      "text/plain": [
       "<Figure size 1000x600 with 1 Axes>"
      ]
     },
     "metadata": {},
     "output_type": "display_data"
    }
   ],
   "source": [
    "plt.figure(figsize=(10,6))\n",
    "plt.plot(range(1,40),error_rate,color='blue', linestyle='dashed',marker='o',markerfacecolor='red', markersize=10)\n",
    "plt.title('Error Rate vs. K Value')\n",
    "plt.xlabel('K')\n",
    "plt.ylabel('Error Rate')\n",
    "req_k_value = error_rate.index(min(error_rate))+1\n",
    "print(\"Minimum error:-\",min(error_rate),\"at K =\",req_k_value)"
   ]
  },
  {
   "cell_type": "code",
   "execution_count": 18,
   "metadata": {},
   "outputs": [
    {
     "data": {
      "text/html": [
       "<style>#sk-container-id-1 {color: black;}#sk-container-id-1 pre{padding: 0;}#sk-container-id-1 div.sk-toggleable {background-color: white;}#sk-container-id-1 label.sk-toggleable__label {cursor: pointer;display: block;width: 100%;margin-bottom: 0;padding: 0.3em;box-sizing: border-box;text-align: center;}#sk-container-id-1 label.sk-toggleable__label-arrow:before {content: \"▸\";float: left;margin-right: 0.25em;color: #696969;}#sk-container-id-1 label.sk-toggleable__label-arrow:hover:before {color: black;}#sk-container-id-1 div.sk-estimator:hover label.sk-toggleable__label-arrow:before {color: black;}#sk-container-id-1 div.sk-toggleable__content {max-height: 0;max-width: 0;overflow: hidden;text-align: left;background-color: #f0f8ff;}#sk-container-id-1 div.sk-toggleable__content pre {margin: 0.2em;color: black;border-radius: 0.25em;background-color: #f0f8ff;}#sk-container-id-1 input.sk-toggleable__control:checked~div.sk-toggleable__content {max-height: 200px;max-width: 100%;overflow: auto;}#sk-container-id-1 input.sk-toggleable__control:checked~label.sk-toggleable__label-arrow:before {content: \"▾\";}#sk-container-id-1 div.sk-estimator input.sk-toggleable__control:checked~label.sk-toggleable__label {background-color: #d4ebff;}#sk-container-id-1 div.sk-label input.sk-toggleable__control:checked~label.sk-toggleable__label {background-color: #d4ebff;}#sk-container-id-1 input.sk-hidden--visually {border: 0;clip: rect(1px 1px 1px 1px);clip: rect(1px, 1px, 1px, 1px);height: 1px;margin: -1px;overflow: hidden;padding: 0;position: absolute;width: 1px;}#sk-container-id-1 div.sk-estimator {font-family: monospace;background-color: #f0f8ff;border: 1px dotted black;border-radius: 0.25em;box-sizing: border-box;margin-bottom: 0.5em;}#sk-container-id-1 div.sk-estimator:hover {background-color: #d4ebff;}#sk-container-id-1 div.sk-parallel-item::after {content: \"\";width: 100%;border-bottom: 1px solid gray;flex-grow: 1;}#sk-container-id-1 div.sk-label:hover label.sk-toggleable__label {background-color: #d4ebff;}#sk-container-id-1 div.sk-serial::before {content: \"\";position: absolute;border-left: 1px solid gray;box-sizing: border-box;top: 0;bottom: 0;left: 50%;z-index: 0;}#sk-container-id-1 div.sk-serial {display: flex;flex-direction: column;align-items: center;background-color: white;padding-right: 0.2em;padding-left: 0.2em;position: relative;}#sk-container-id-1 div.sk-item {position: relative;z-index: 1;}#sk-container-id-1 div.sk-parallel {display: flex;align-items: stretch;justify-content: center;background-color: white;position: relative;}#sk-container-id-1 div.sk-item::before, #sk-container-id-1 div.sk-parallel-item::before {content: \"\";position: absolute;border-left: 1px solid gray;box-sizing: border-box;top: 0;bottom: 0;left: 50%;z-index: -1;}#sk-container-id-1 div.sk-parallel-item {display: flex;flex-direction: column;z-index: 1;position: relative;background-color: white;}#sk-container-id-1 div.sk-parallel-item:first-child::after {align-self: flex-end;width: 50%;}#sk-container-id-1 div.sk-parallel-item:last-child::after {align-self: flex-start;width: 50%;}#sk-container-id-1 div.sk-parallel-item:only-child::after {width: 0;}#sk-container-id-1 div.sk-dashed-wrapped {border: 1px dashed gray;margin: 0 0.4em 0.5em 0.4em;box-sizing: border-box;padding-bottom: 0.4em;background-color: white;}#sk-container-id-1 div.sk-label label {font-family: monospace;font-weight: bold;display: inline-block;line-height: 1.2em;}#sk-container-id-1 div.sk-label-container {text-align: center;}#sk-container-id-1 div.sk-container {/* jupyter's `normalize.less` sets `[hidden] { display: none; }` but bootstrap.min.css set `[hidden] { display: none !important; }` so we also need the `!important` here to be able to override the default hidden behavior on the sphinx rendered scikit-learn.org. See: https://github.com/scikit-learn/scikit-learn/issues/21755 */display: inline-block !important;position: relative;}#sk-container-id-1 div.sk-text-repr-fallback {display: none;}</style><div id=\"sk-container-id-1\" class=\"sk-top-container\"><div class=\"sk-text-repr-fallback\"><pre>KNeighborsClassifier(n_neighbors=32)</pre><b>In a Jupyter environment, please rerun this cell to show the HTML representation or trust the notebook. <br />On GitHub, the HTML representation is unable to render, please try loading this page with nbviewer.org.</b></div><div class=\"sk-container\" hidden><div class=\"sk-item\"><div class=\"sk-estimator sk-toggleable\"><input class=\"sk-toggleable__control sk-hidden--visually\" id=\"sk-estimator-id-1\" type=\"checkbox\" checked><label for=\"sk-estimator-id-1\" class=\"sk-toggleable__label sk-toggleable__label-arrow\">KNeighborsClassifier</label><div class=\"sk-toggleable__content\"><pre>KNeighborsClassifier(n_neighbors=32)</pre></div></div></div></div></div>"
      ],
      "text/plain": [
       "KNeighborsClassifier(n_neighbors=32)"
      ]
     },
     "execution_count": 18,
     "metadata": {},
     "output_type": "execute_result"
    }
   ],
   "source": [
    "classifier = KNeighborsClassifier(\n",
    "    n_neighbors=32 ,metric=\"minkowski\", p=2\n",
    ")\n",
    "classifier.fit(x_train,y_train)"
   ]
  },
  {
   "cell_type": "code",
   "execution_count": 19,
   "metadata": {},
   "outputs": [],
   "source": [
    "y_pred = classifier.predict(x_test)"
   ]
  },
  {
   "cell_type": "code",
   "execution_count": 20,
   "metadata": {},
   "outputs": [
    {
     "name": "stdout",
     "output_type": "stream",
     "text": [
      "0.9400714285714286\n",
      "[[1307    8   12    7   11    2    6    7   11    7]\n",
      " [  12 1341    9    6    3    4    7    9    6    6]\n",
      " [  12   14 1260   10   12   10    3    8    4    6]\n",
      " [  12   12   16 1292   10    5    7    5   11    7]\n",
      " [   5    8   12   13 1388    7    7    1    6    5]\n",
      " [  12   14   10   14   10 1306    2   11    4    5]\n",
      " [  22   29   28   12    6   17 1323    7   10    7]\n",
      " [  20   10   10   11    9    3   13 1279    6    4]\n",
      " [   8   16    7   12   10    9    7   11 1327    5]\n",
      " [  17    5   12    6    7   13    2   12   13 1338]]\n"
     ]
    }
   ],
   "source": [
    "from sklearn.metrics import accuracy_score,confusion_matrix\n",
    "\n",
    "acc = accuracy_score(y_test,y_pred)\n",
    "cm = confusion_matrix(y_test,y_pred)\n",
    "\n",
    "print(acc)\n",
    "print(cm)"
   ]
  },
  {
   "cell_type": "code",
   "execution_count": 21,
   "metadata": {},
   "outputs": [
    {
     "data": {
      "text/plain": [
       "['MIC_KNN.pkl']"
      ]
     },
     "execution_count": 21,
     "metadata": {},
     "output_type": "execute_result"
    }
   ],
   "source": [
    "import joblib\n",
    "\n",
    "model = classifier\n",
    "\n",
    "\n",
    "joblib.dump(model, 'MIC_KNN.pkl')\n"
   ]
  },
  {
   "cell_type": "code",
   "execution_count": 22,
   "metadata": {},
   "outputs": [
    {
     "name": "stdout",
     "output_type": "stream",
     "text": [
      "         UID                  ph_no     cvv  credit_card_number  \\\n",
      "0  675919160  001-869-364-3240x1461   632.0        4.787566e+12   \n",
      "1  V09461652    +1-573-696-9623x435   548.0        4.804074e+15   \n",
      "2  S75396644   001-755-901-1494x000   808.0        4.890170e+15   \n",
      "3  598599835      (625)805-7487x931  9468.0        5.428366e+15   \n",
      "4  W60397022     556-206-9662x97397   647.0        2.131239e+14   \n",
      "\n",
      "                                     job                         email  \\\n",
      "0            Scientist, research (maths)  lawrencereginald@example.org   \n",
      "1       Higher education careers adviser        jennifer41@example.org   \n",
      "2                            Illustrator      valdezsheryl@example.net   \n",
      "3                 Audiological scientist                           NaN   \n",
      "4  Development worker, international aid    jefferyrussell@example.org   \n",
      "\n",
      "                    url                           country  emoji  \\\n",
      "0    http://walker.org/                          Honduras  🧜🏻‍♀️   \n",
      "1      http://shah.com/              Netherlands Antilles  💁🏻‍♀️   \n",
      "2   http://barrett.com/  Lao People's Democratic Republic     👭🏼   \n",
      "3  http://melendez.com/                      Sierra Leone     🖲️   \n",
      "4     http://hicks.net/                     Faroe Islands     🏌️   \n",
      "\n",
      "                name  ...                            OaMqz  \\\n",
      "0       Jean Barajas  ...  Iwp🏤5!-21.248937402363666!G🚵O‍🏿   \n",
      "1       Sandra Ellis  ...  Iwp🏤5!-33.934398562714854!G🚵O‍🏿   \n",
      "2    Elizabeth Smith  ...   Iwp🏤5!12.391218072873253!G🚵O‍🏿   \n",
      "3  Allison Rodriguez  ...   Iwp🏤5!11.456072353615188!G🚵O‍🏿   \n",
      "4       Helen Howell  ...   Iwp🏤5!19.865807379370352!G🚵O‍🏿   \n",
      "\n",
      "                             qhUzJ                            FpCOT  \\\n",
      "0   🍣🏿🟠U👨@-5.726684042857591@️bY‍t   N6♀rs%1.5777964549882526%g2Fu7   \n",
      "1  🍣🏿🟠U👨@-19.149703711482513@️bY‍t   N6♀rs%-2.868717979567546%g2Fu7   \n",
      "2  🍣🏿🟠U👨@-14.048287304034654@️bY‍t   N6♀rs%-5.027959013789114%g2Fu7   \n",
      "3  🍣🏿🟠U👨@-12.459836898257926@️bY‍t  N6♀rs%-3.4487706404694176%g2Fu7   \n",
      "4   🍣🏿🟠U👨@-24.53780901409825@️bY‍t   N6♀rs%1.1061886236703802%g2Fu7   \n",
      "\n",
      "                             zEnW3                            ASDn5  \\\n",
      "0   dwLNC+-8.911004387243423+D🟠Mj👩   ♀Y‍tt^5.9810077922437666^7b🎓🍣T   \n",
      "1   dwLNC+15.453724177383293+D🟠Mj👩    ♀Y‍tt^-6.21132167380491^7b🎓🍣T   \n",
      "2     dwLNC+6.75452704247651+D🟠Mj👩    ♀Y‍tt^7.670390381027927^7b🎓🍣T   \n",
      "3    dwLNC+20.40768203656919+D🟠Mj👩  ♀Y‍tt^-1.6018121132255914^7b🎓🍣T   \n",
      "4  dwLNC+-14.192346659192372+D🟠Mj👩   ♀Y‍tt^3.9302373419898426^7b🎓🍣T   \n",
      "\n",
      "                             vF2is                             pZijn  \\\n",
      "0  Q👩👨H🏾?-1.2978943388453708?p🎨dBV   JC🍣8Q!-1.6739446957794175!Wo‍6t   \n",
      "1  Q👩👨H🏾?-0.9339788851074693?p🎨dBV  JC🍣8Q!0.001376362594596836!Wo‍6t   \n",
      "2   Q👩👨H🏾?0.3470814661758477?p🎨dBV     JC🍣8Q!1.407363830373458!Wo‍6t   \n",
      "3   Q👩👨H🏾?1.3550954935361417?p🎨dBV    JC🍣8Q!0.9793080156219274!Wo‍6t   \n",
      "4     Q👩👨H🏾?9.83258038734695?p🎨dBV   JC🍣8Q!-0.6727171474082108!Wo‍6t   \n",
      "\n",
      "                             WUc3c                            sCIyG  \\\n",
      "0   QtgcM|1.4464588802972562|srwW❇   ♀👩🦐pq%-29.42164549286103%👨Oet♀   \n",
      "1   QtgcM|-4.159290969741395|srwW❇  ♀👩🦐pq%-1.5404064055083722%👨Oet♀   \n",
      "2    QtgcM|6.091721410416965|srwW❇   ♀👩🦐pq%-22.07040959384532%👨Oet♀   \n",
      "3  QtgcM|-1.4099964218763166|srwW❇   ♀👩🦐pq%2.1205798212068476%👨Oet♀   \n",
      "4   QtgcM|-7.779141559091242|srwW❇   ♀👩🦐pq%15.756719250278918%👨Oet♀   \n",
      "\n",
      "                             qaERi  \n",
      "0   ‍🏿🟠👩X+1.7950039158754367+‍b🎨VK  \n",
      "1   ‍🏿🟠👩X+1.2969428631934425+‍b🎨VK  \n",
      "2  ‍🏿🟠👩X+-3.7487716558978468+‍b🎨VK  \n",
      "3  ‍🏿🟠👩X+-3.9241064330693742+‍b🎨VK  \n",
      "4   ‍🏿🟠👩X+-7.693867142428937+‍b🎨VK  \n",
      "\n",
      "[5 rows x 110 columns]\n"
     ]
    }
   ],
   "source": [
    "test_dataset = pd.read_csv(\"test.csv\")\n",
    "print(test_dataset.head())"
   ]
  },
  {
   "cell_type": "code",
   "execution_count": 23,
   "metadata": {},
   "outputs": [],
   "source": [
    "test_dataset = test_dataset.drop([\"UID\",\"ph_no\",\"job\",\"UZRdX\",\"Bz7Ov\",\"country\",\"cvv\",\"credit_card_number\",\"email\",\"url\",\"emoji\",\"name\"],axis =1)"
   ]
  },
  {
   "cell_type": "code",
   "execution_count": 24,
   "metadata": {},
   "outputs": [],
   "source": [
    "def clean_columns_new(dataset):\n",
    "    for column in dataset.columns[0:]:\n",
    "        dataset[column] = dataset[column].str.extract(r'(\\-?\\d+\\.\\d+)').astype(float)"
   ]
  },
  {
   "cell_type": "code",
   "execution_count": 25,
   "metadata": {},
   "outputs": [],
   "source": [
    "clean_columns_new(test_dataset)"
   ]
  },
  {
   "cell_type": "code",
   "execution_count": 26,
   "metadata": {},
   "outputs": [],
   "source": [
    "test_dataset = test_dataset.drop(corr_features,axis = 1)"
   ]
  },
  {
   "cell_type": "code",
   "execution_count": 27,
   "metadata": {},
   "outputs": [],
   "source": [
    "for column in test_dataset.columns[0:]:\n",
    "    column_mean = test_dataset[column].mean()\n",
    "    test_dataset[column].fillna(column_mean, inplace=True)"
   ]
  },
  {
   "cell_type": "code",
   "execution_count": 28,
   "metadata": {},
   "outputs": [],
   "source": [
    "x_test_new = test_dataset.iloc[:,0:].values\n"
   ]
  },
  {
   "cell_type": "code",
   "execution_count": 29,
   "metadata": {},
   "outputs": [],
   "source": [
    "x_test_new[:,0:] = sc.transform(x_test_new[:,0:])"
   ]
  },
  {
   "cell_type": "code",
   "execution_count": 31,
   "metadata": {},
   "outputs": [],
   "source": [
    "y_test_pred = classifier.predict(x_test_new)\n"
   ]
  },
  {
   "cell_type": "code",
   "execution_count": 33,
   "metadata": {},
   "outputs": [],
   "source": [
    "predicted_original = le.inverse_transform(y_test_pred)"
   ]
  },
  {
   "cell_type": "code",
   "execution_count": 35,
   "metadata": {},
   "outputs": [],
   "source": [
    "submission_dataset = pd.read_csv(\"test.csv\")"
   ]
  },
  {
   "cell_type": "code",
   "execution_count": 36,
   "metadata": {},
   "outputs": [],
   "source": [
    "result_df = pd.DataFrame({'UID': submission_dataset['UID'], 'state': predicted_original})\n",
    "\n",
    "\n",
    "result_df.to_csv('MIC_submission_updated_3.csv', index=False)"
   ]
  }
 ],
 "metadata": {
  "kernelspec": {
   "display_name": "Python 3",
   "language": "python",
   "name": "python3"
  },
  "language_info": {
   "codemirror_mode": {
    "name": "ipython",
    "version": 3
   },
   "file_extension": ".py",
   "mimetype": "text/x-python",
   "name": "python",
   "nbconvert_exporter": "python",
   "pygments_lexer": "ipython3",
   "version": "3.11.4"
  },
  "orig_nbformat": 4
 },
 "nbformat": 4,
 "nbformat_minor": 2
}
